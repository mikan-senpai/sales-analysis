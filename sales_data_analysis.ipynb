{
 "cells": [
  {
   "cell_type": "code",
   "execution_count": 0,
   "metadata": {
    "application/vnd.databricks.v1+cell": {
     "cellMetadata": {
      "byteLimit": 2048000,
      "rowLimit": 10000
     },
     "inputWidgets": {},
     "nuid": "6c09be41-cd38-43aa-95b4-1fce58ee2b9d",
     "showTitle": false,
     "title": ""
    }
   },
   "outputs": [
    {
     "output_type": "display_data",
     "data": {
      "text/html": [
       "\n",
       "            <div>\n",
       "                <p><b>SparkSession - hive</b></p>\n",
       "                \n",
       "        <div>\n",
       "            <p><b>SparkContext</b></p>\n",
       "\n",
       "            <p><a href=\"/?o=566473405262580#setting/sparkui/0423-085143-vz4iv4oc/driver-6353774027251751799\">Spark UI</a></p>\n",
       "\n",
       "            <dl>\n",
       "              <dt>Version</dt>\n",
       "                <dd><code>v3.3.2</code></dd>\n",
       "              <dt>Master</dt>\n",
       "                <dd><code>local[8]</code></dd>\n",
       "              <dt>AppName</dt>\n",
       "                <dd><code>Databricks Shell</code></dd>\n",
       "            </dl>\n",
       "        </div>\n",
       "        \n",
       "            </div>\n",
       "        "
      ]
     },
     "metadata": {
      "application/vnd.databricks.v1+output": {
       "addedWidgets": {},
       "arguments": {},
       "data": "\n            <div>\n                <p><b>SparkSession - hive</b></p>\n                \n        <div>\n            <p><b>SparkContext</b></p>\n\n            <p><a href=\"/?o=566473405262580#setting/sparkui/0423-085143-vz4iv4oc/driver-6353774027251751799\">Spark UI</a></p>\n\n            <dl>\n              <dt>Version</dt>\n                <dd><code>v3.3.2</code></dd>\n              <dt>Master</dt>\n                <dd><code>local[8]</code></dd>\n              <dt>AppName</dt>\n                <dd><code>Databricks Shell</code></dd>\n            </dl>\n        </div>\n        \n            </div>\n        ",
       "datasetInfos": [],
       "metadata": {},
       "removedWidgets": [],
       "textData": null,
       "type": "htmlSandbox"
      }
     },
     "output_type": "display_data"
    }
   ],
   "source": [
    "spark"
   ]
  },
  {
   "cell_type": "code",
   "execution_count": 0,
   "metadata": {
    "application/vnd.databricks.v1+cell": {
     "cellMetadata": {
      "byteLimit": 2048000,
      "rowLimit": 10000
     },
     "inputWidgets": {},
     "nuid": "98d195c5-7ebe-454a-8b4f-4354325c0bdf",
     "showTitle": true,
     "title": "Importing required libraries"
    }
   },
   "outputs": [
    {
     "output_type": "display_data",
     "data": {
      "application/vnd.databricks.v1+bamboolib_hint": "{\"pd.DataFrames\": [], \"version\": \"0.0.1\"}",
      "text/plain": []
     },
     "metadata": {},
     "output_type": "display_data"
    }
   ],
   "source": [
    "import os\n",
    "import pandas as pd\n",
    "import numpy as np\n",
    "\n",
    "from pyspark import SparkConf, SparkContext\n",
    "from pyspark.sql import SparkSession, SQLContext\n",
    "\n",
    "from pyspark.sql.types import *\n",
    "from pyspark.sql.window import Window\n",
    "\n",
    "\n",
    "import pyspark.sql.functions as F\n",
    "from pyspark.sql.functions import udf, col , count , date_format"
   ]
  },
  {
   "cell_type": "code",
   "execution_count": 0,
   "metadata": {
    "application/vnd.databricks.v1+cell": {
     "cellMetadata": {
      "byteLimit": 2048000,
      "rowLimit": 10000
     },
     "inputWidgets": {},
     "nuid": "7f14f195-4497-4800-b2b5-9796a9f3d41b",
     "showTitle": false,
     "title": ""
    }
   },
   "outputs": [],
   "source": [
    "# Visualization\n",
    "import seaborn as sns\n",
    "import matplotlib.pyplot as plt"
   ]
  },
  {
   "cell_type": "code",
   "execution_count": 0,
   "metadata": {
    "application/vnd.databricks.v1+cell": {
     "cellMetadata": {
      "byteLimit": 2048000,
      "rowLimit": 10000
     },
     "inputWidgets": {},
     "nuid": "db081686-b7d6-4ac7-8648-796da1e6bd93",
     "showTitle": true,
     "title": "DBFS file path"
    }
   },
   "outputs": [],
   "source": [
    "CUSTOMERS_DATA =   'dbfs:/FileStore/customers.csv'\n",
    "DEPARTMENTS_DATA = 'dbfs:/FileStore/departments.csv'\n",
    "CATEGORIES_DATA =  'dbfs:/FileStore/categories.csv'\n",
    "PRODUCTS_DATA =    'dbfs:/FileStore/products.csv'\n",
    "ORDERS_DATA =      'dbfs:/FileStore/orders.csv'\n",
    "ORDER_ITEMS_DATA = 'dbfs:/FileStore/order_items.csv'"
   ]
  },
  {
   "cell_type": "code",
   "execution_count": 0,
   "metadata": {
    "application/vnd.databricks.v1+cell": {
     "cellMetadata": {
      "byteLimit": 2048000,
      "rowLimit": 10000
     },
     "inputWidgets": {},
     "nuid": "843523de-1708-46cb-b61a-71a9930734e5",
     "showTitle": true,
     "title": "Customer schema"
    }
   },
   "outputs": [],
   "source": [
    "# define the schema, corresponding to a line in the csv data file for Customer\n",
    "customers_schema = StructType([\n",
    "    StructField('customer_id',       IntegerType(), nullable=True),\n",
    "    StructField('customer_fname',    StringType(), nullable=True),\n",
    "    StructField('customer_lname',    StringType(), nullable=True),\n",
    "    StructField('customer_email',    StringType(), nullable=True),\n",
    "    StructField('customer_password', StringType(), nullable=True),\n",
    "    StructField('customer_street',   StringType(), nullable=True),\n",
    "    StructField('customer_city',     StringType(), nullable=True),\n",
    "    StructField('customer_state',    StringType(), nullable=True),\n",
    "    StructField('customer_zipcode',  StringType(), nullable=True)])"
   ]
  },
  {
   "cell_type": "code",
   "execution_count": 0,
   "metadata": {
    "application/vnd.databricks.v1+cell": {
     "cellMetadata": {
      "byteLimit": 2048000,
      "rowLimit": 10000
     },
     "inputWidgets": {},
     "nuid": "b6c8cf1d-2d11-457a-a4dd-7445f3adfe7b",
     "showTitle": true,
     "title": "Department schema"
    }
   },
   "outputs": [],
   "source": [
    "departments_schema = StructType([\n",
    "    StructField('department_id',   IntegerType(), nullable=True),\n",
    "    StructField('department_name', StringType(), nullable=True)])"
   ]
  },
  {
   "cell_type": "code",
   "execution_count": 0,
   "metadata": {
    "application/vnd.databricks.v1+cell": {
     "cellMetadata": {
      "byteLimit": 2048000,
      "rowLimit": 10000
     },
     "inputWidgets": {},
     "nuid": "5b4242e2-648d-41f4-8629-d2f2d6098fed",
     "showTitle": true,
     "title": "Categories schema"
    }
   },
   "outputs": [],
   "source": [
    "categories_schema = StructType([\n",
    "    StructField('category_id',            IntegerType(), nullable=True),\n",
    "    StructField('category_department_id', IntegerType(), nullable=True),\n",
    "    StructField('category_name',          StringType(), nullable=True)])"
   ]
  },
  {
   "cell_type": "code",
   "execution_count": 0,
   "metadata": {
    "application/vnd.databricks.v1+cell": {
     "cellMetadata": {
      "byteLimit": 2048000,
      "rowLimit": 10000
     },
     "inputWidgets": {},
     "nuid": "d9867e12-8a29-44d3-a501-13ef9485d1d2",
     "showTitle": true,
     "title": "Product Schema"
    }
   },
   "outputs": [],
   "source": [
    "products_schema = StructType([\n",
    "    StructField('product_id',          IntegerType(), nullable=True),\n",
    "    StructField('product_category_id', IntegerType(), nullable=True),\n",
    "    StructField('product_name',        StringType(), nullable=True),\n",
    "    StructField('product_description', StringType(), nullable=True),\n",
    "    StructField('product_price',       FloatType(), nullable=True),\n",
    "    StructField('product_image',       StringType(), nullable=True)])"
   ]
  },
  {
   "cell_type": "code",
   "execution_count": 0,
   "metadata": {
    "application/vnd.databricks.v1+cell": {
     "cellMetadata": {
      "byteLimit": 2048000,
      "rowLimit": 10000
     },
     "inputWidgets": {},
     "nuid": "767b9c03-fae1-41b6-8748-ad9247654005",
     "showTitle": true,
     "title": "Orders schema"
    }
   },
   "outputs": [],
   "source": [
    "orders_schema = StructType([\n",
    "    StructField('order_id',          IntegerType(), nullable=True),\n",
    "    StructField('order_date',        StringType(), nullable=True),\n",
    "    StructField('order_customer_id', IntegerType(), nullable=True),\n",
    "    StructField('order_status',      StringType(), nullable=True)])"
   ]
  },
  {
   "cell_type": "code",
   "execution_count": 0,
   "metadata": {
    "application/vnd.databricks.v1+cell": {
     "cellMetadata": {
      "byteLimit": 2048000,
      "rowLimit": 10000
     },
     "inputWidgets": {},
     "nuid": "fd1f6022-d868-4765-912a-dca48238e682",
     "showTitle": true,
     "title": "Order Item schema"
    }
   },
   "outputs": [],
   "source": [
    "order_items_schema = StructType([\n",
    "    StructField('order_item_id',            IntegerType(), nullable=True),\n",
    "    StructField('order_item_order_id',      IntegerType(), nullable=True),\n",
    "    StructField('order_item_product_id',    IntegerType(), nullable=True),\n",
    "    StructField('order_item_quantity',      IntegerType(), nullable=True),\n",
    "    StructField('order_item_subtotal',      FloatType(), nullable=True),\n",
    "    StructField('order_item_product_price', FloatType(), nullable=True)])"
   ]
  },
  {
   "cell_type": "code",
   "execution_count": 0,
   "metadata": {
    "application/vnd.databricks.v1+cell": {
     "cellMetadata": {
      "byteLimit": 2048000,
      "rowLimit": 10000
     },
     "inputWidgets": {},
     "nuid": "78985919-4e4f-4e86-b180-1b068b403bff",
     "showTitle": true,
     "title": "Ingestion of Data"
    }
   },
   "outputs": [
    {
     "output_type": "stream",
     "name": "stdout",
     "output_type": "stream",
     "text": [
      "+-----------+--------------+--------------+--------------+-----------------+--------------------+-------------+--------------+----------------+\n|customer_id|customer_fname|customer_lname|customer_email|customer_password|     customer_street|customer_city|customer_state|customer_zipcode|\n+-----------+--------------+--------------+--------------+-----------------+--------------------+-------------+--------------+----------------+\n|          1|       Richard|     Hernandez|     XXXXXXXXX|        XXXXXXXXX|  6303 Heather Plaza|  Brownsville|            TX|           78521|\n|          2|          Mary|       Barrett|     XXXXXXXXX|        XXXXXXXXX|9526 Noble Embers...|    Littleton|            CO|           80126|\n|          3|           Ann|         Smith|     XXXXXXXXX|        XXXXXXXXX|3422 Blue Pioneer...|       Caguas|            PR|           00725|\n|          4|          Mary|         Jones|     XXXXXXXXX|        XXXXXXXXX|  8324 Little Common|   San Marcos|            CA|           92069|\n|          5|        Robert|        Hudson|     XXXXXXXXX|        XXXXXXXXX|10 Crystal River ...|       Caguas|            PR|           00725|\n|          6|          Mary|         Smith|     XXXXXXXXX|        XXXXXXXXX|3151 Sleepy Quail...|      Passaic|            NJ|           07055|\n|          7|       Melissa|        Wilcox|     XXXXXXXXX|        XXXXXXXXX|9453 High Concession|       Caguas|            PR|           00725|\n|          8|         Megan|         Smith|     XXXXXXXXX|        XXXXXXXXX|3047 Foggy Forest...|     Lawrence|            MA|           01841|\n|          9|          Mary|         Perez|     XXXXXXXXX|        XXXXXXXXX| 3616 Quaking Street|       Caguas|            PR|           00725|\n|         10|       Melissa|         Smith|     XXXXXXXXX|        XXXXXXXXX|8598 Harvest Beac...|     Stafford|            VA|           22554|\n|         11|          Mary|       Huffman|     XXXXXXXXX|        XXXXXXXXX|    3169 Stony Woods|       Caguas|            PR|           00725|\n|         12|   Christopher|         Smith|     XXXXXXXXX|        XXXXXXXXX|5594 Jagged Ember...|  San Antonio|            TX|           78227|\n|         13|          Mary|       Baldwin|     XXXXXXXXX|        XXXXXXXXX|7922 Iron Oak Gar...|       Caguas|            PR|           00725|\n|         14|     Katherine|         Smith|     XXXXXXXXX|        XXXXXXXXX|5666 Hazy Pony Sq...|  Pico Rivera|            CA|           90660|\n|         15|          Jane|          Luna|     XXXXXXXXX|        XXXXXXXXX|    673 Burning Glen|      Fontana|            CA|           92336|\n|         16|       Tiffany|         Smith|     XXXXXXXXX|        XXXXXXXXX|      6651 Iron Port|       Caguas|            PR|           00725|\n|         17|          Mary|      Robinson|     XXXXXXXXX|        XXXXXXXXX|     1325 Noble Pike|       Taylor|            MI|           48180|\n|         18|        Robert|         Smith|     XXXXXXXXX|        XXXXXXXXX|2734 Hazy Butterf...|     Martinez|            CA|           94553|\n|         19|     Stephanie|      Mitchell|     XXXXXXXXX|        XXXXXXXXX|3543 Red Treasure...|       Caguas|            PR|           00725|\n|         20|          Mary|         Ellis|     XXXXXXXXX|        XXXXXXXXX|      4703 Old Route|West New York|            NJ|           07093|\n+-----------+--------------+--------------+--------------+-----------------+--------------------+-------------+--------------+----------------+\nonly showing top 20 rows\n\n+-------------+---------------+\n|department_id|department_name|\n+-------------+---------------+\n|            2|        Fitness|\n|            3|       Footwear|\n|            4|        Apparel|\n|            5|           Golf|\n|            6|       Outdoors|\n|            7|       Fan Shop|\n+-------------+---------------+\n\n+-----------+----------------------+-------------------+\n|category_id|category_department_id|      category_name|\n+-----------+----------------------+-------------------+\n|          1|                     2|           Football|\n|          2|                     2|             Soccer|\n|          3|                     2|Baseball & Softball|\n|          4|                     2|         Basketball|\n|          5|                     2|           Lacrosse|\n|          6|                     2|   Tennis & Racquet|\n|          7|                     2|             Hockey|\n|          8|                     2|        More Sports|\n|          9|                     3|   Cardio Equipment|\n|         10|                     3|  Strength Training|\n|         11|                     3|Fitness Accessories|\n|         12|                     3|       Boxing & MMA|\n|         13|                     3|        Electronics|\n|         14|                     3|     Yoga & Pilates|\n|         15|                     3|  Training by Sport|\n|         16|                     3|    As Seen on  TV!|\n|         17|                     4|             Cleats|\n|         18|                     4|     Men's Footwear|\n|         19|                     4|   Women's Footwear|\n|         20|                     4|     Kids' Footwear|\n+-----------+----------------------+-------------------+\nonly showing top 20 rows\n\n+----------+-------------------+--------------------+-------------------+-------------+--------------------+\n|product_id|product_category_id|        product_name|product_description|product_price|       product_image|\n+----------+-------------------+--------------------+-------------------+-------------+--------------------+\n|         1|                  2|Quest Q64 10 FT. ...|               null|        59.98|http://images.acm...|\n|         2|                  2|Under Armour Men'...|               null|       129.99|http://images.acm...|\n|         3|                  2|Under Armour Men'...|               null|        89.99|http://images.acm...|\n|         4|                  2|Under Armour Men'...|               null|        89.99|http://images.acm...|\n|         5|                  2|Riddell Youth Rev...|               null|       199.99|http://images.acm...|\n|         6|                  2|Jordan Men's VI R...|               null|       134.99|http://images.acm...|\n|         7|                  2|Schutt Youth Recr...|               null|        99.99|http://images.acm...|\n|         8|                  2|Nike Men's Vapor ...|               null|       129.99|http://images.acm...|\n|         9|                  2|Nike Adult Vapor ...|               null|         50.0|http://images.acm...|\n|        10|                  2|Under Armour Men'...|               null|       129.99|http://images.acm...|\n|        11|                  2|Fitness Gear 300 ...|               null|       209.99|http://images.acm...|\n|        12|                  2|Under Armour Men'...|               null|       139.99|http://images.acm...|\n|        13|                  2|Under Armour Men'...|               null|        89.99|http://images.acm...|\n|        14|                  2|Quik Shade Summit...|               null|       199.99|http://images.acm...|\n|        15|                  2|Under Armour Kids...|               null|        59.99|http://images.acm...|\n|        16|                  2|Riddell Youth 360...|               null|       299.99|http://images.acm...|\n|        17|                  2|Under Armour Men'...|               null|       129.99|http://images.acm...|\n|        18|                  2|Reebok Men's Full...|               null|        29.97|http://images.acm...|\n|        19|                  2|Nike Men's Finger...|               null|       124.99|http://images.acm...|\n|        20|                  2|Under Armour Men'...|               null|       129.99|http://images.acm...|\n+----------+-------------------+--------------------+-------------------+-------------+--------------------+\nonly showing top 20 rows\n\n+--------+--------------------+-----------------+---------------+\n|order_id|          order_date|order_customer_id|   order_status|\n+--------+--------------------+-----------------+---------------+\n|       1|2013-07-25 00:00:...|            11599|         CLOSED|\n|       2|2013-07-25 00:00:...|              256|PENDING_PAYMENT|\n|       3|2013-07-25 00:00:...|            12111|       COMPLETE|\n|       4|2013-07-25 00:00:...|             8827|         CLOSED|\n|       5|2013-07-25 00:00:...|            11318|       COMPLETE|\n|       6|2013-07-25 00:00:...|             7130|       COMPLETE|\n|       7|2013-07-25 00:00:...|             4530|       COMPLETE|\n|       8|2013-07-25 00:00:...|             2911|     PROCESSING|\n|       9|2013-07-25 00:00:...|             5657|PENDING_PAYMENT|\n|      10|2013-07-25 00:00:...|             5648|PENDING_PAYMENT|\n|      11|2013-07-25 00:00:...|              918| PAYMENT_REVIEW|\n|      12|2013-07-25 00:00:...|             1837|         CLOSED|\n|      13|2013-07-25 00:00:...|             9149|PENDING_PAYMENT|\n|      14|2013-07-25 00:00:...|             9842|     PROCESSING|\n|      15|2013-07-25 00:00:...|             2568|       COMPLETE|\n|      16|2013-07-25 00:00:...|             7276|PENDING_PAYMENT|\n|      17|2013-07-25 00:00:...|             2667|       COMPLETE|\n|      18|2013-07-25 00:00:...|             1205|         CLOSED|\n|      19|2013-07-25 00:00:...|             9488|PENDING_PAYMENT|\n|      20|2013-07-25 00:00:...|             9198|     PROCESSING|\n+--------+--------------------+-----------------+---------------+\nonly showing top 20 rows\n\n+-------------+-------------------+---------------------+-------------------+-------------------+------------------------+\n|order_item_id|order_item_order_id|order_item_product_id|order_item_quantity|order_item_subtotal|order_item_product_price|\n+-------------+-------------------+---------------------+-------------------+-------------------+------------------------+\n|            1|                  1|                  957|                  1|             299.98|                  299.98|\n|            2|                  2|                 1073|                  1|             199.99|                  199.99|\n|            3|                  2|                  502|                  5|              250.0|                    50.0|\n|            4|                  2|                  403|                  1|             129.99|                  129.99|\n|            5|                  4|                  897|                  2|              49.98|                   24.99|\n|            6|                  4|                  365|                  5|             299.95|                   59.99|\n|            7|                  4|                  502|                  3|              150.0|                    50.0|\n|            8|                  4|                 1014|                  4|             199.92|                   49.98|\n|            9|                  5|                  957|                  1|             299.98|                  299.98|\n|           10|                  5|                  365|                  5|             299.95|                   59.99|\n|           11|                  5|                 1014|                  2|              99.96|                   49.98|\n|           12|                  5|                  957|                  1|             299.98|                  299.98|\n|           13|                  5|                  403|                  1|             129.99|                  129.99|\n|           14|                  7|                 1073|                  1|             199.99|                  199.99|\n|           15|                  7|                  957|                  1|             299.98|                  299.98|\n|           16|                  7|                  926|                  5|              79.95|                   15.99|\n|           17|                  8|                  365|                  3|             179.97|                   59.99|\n|           18|                  8|                  365|                  5|             299.95|                   59.99|\n|           19|                  8|                 1014|                  4|             199.92|                   49.98|\n|           20|                  8|                  502|                  1|               50.0|                    50.0|\n+-------------+-------------------+---------------------+-------------------+-------------------+------------------------+\nonly showing top 20 rows\n\n"
     ]
    }
   ],
   "source": [
    "# Load data\n",
    "customers_df = spark.read.csv(path=CUSTOMERS_DATA, schema=customers_schema)\n",
    "customers_df.show()\n",
    "\n",
    "departments_df = spark.read.csv(path=DEPARTMENTS_DATA, schema=departments_schema)\n",
    "departments_df.show()\n",
    "\n",
    "categories_df = spark.read.csv(path=CATEGORIES_DATA, schema=categories_schema)\n",
    "categories_df.show()\n",
    "\n",
    "products_df = spark.read.csv(path=PRODUCTS_DATA, schema=products_schema)\n",
    "products_df.show()\n",
    "\n",
    "orders_df = spark.read.csv(path=ORDERS_DATA, schema=orders_schema)\n",
    "orders_df.show()\n",
    "\n",
    "order_items_df = spark.read.csv(path=ORDER_ITEMS_DATA, schema=order_items_schema)\n",
    "order_items_df.show()"
   ]
  },
  {
   "cell_type": "code",
   "execution_count": 0,
   "metadata": {
    "application/vnd.databricks.v1+cell": {
     "cellMetadata": {
      "byteLimit": 2048000,
      "rowLimit": 10000
     },
     "inputWidgets": {},
     "nuid": "47c87f56-52ba-42c5-a243-c6c8f810f747",
     "showTitle": true,
     "title": "Checking schema"
    }
   },
   "outputs": [
    {
     "output_type": "stream",
     "name": "stdout",
     "output_type": "stream",
     "text": [
      "+-----------+--------------+--------------+--------------+-----------------+--------------------+-------------+--------------+----------------+\n|customer_id|customer_fname|customer_lname|customer_email|customer_password|     customer_street|customer_city|customer_state|customer_zipcode|\n+-----------+--------------+--------------+--------------+-----------------+--------------------+-------------+--------------+----------------+\n|          1|       Richard|     Hernandez|     XXXXXXXXX|        XXXXXXXXX|  6303 Heather Plaza|  Brownsville|            TX|           78521|\n|          2|          Mary|       Barrett|     XXXXXXXXX|        XXXXXXXXX|9526 Noble Embers...|    Littleton|            CO|           80126|\n|          3|           Ann|         Smith|     XXXXXXXXX|        XXXXXXXXX|3422 Blue Pioneer...|       Caguas|            PR|           00725|\n|          4|          Mary|         Jones|     XXXXXXXXX|        XXXXXXXXX|  8324 Little Common|   San Marcos|            CA|           92069|\n|          5|        Robert|        Hudson|     XXXXXXXXX|        XXXXXXXXX|10 Crystal River ...|       Caguas|            PR|           00725|\n+-----------+--------------+--------------+--------------+-----------------+--------------------+-------------+--------------+----------------+\nonly showing top 5 rows\n\n+-------------+---------------+\n|department_id|department_name|\n+-------------+---------------+\n|            2|        Fitness|\n|            3|       Footwear|\n|            4|        Apparel|\n|            5|           Golf|\n|            6|       Outdoors|\n+-------------+---------------+\nonly showing top 5 rows\n\n+-----------+----------------------+-------------------+\n|category_id|category_department_id|      category_name|\n+-----------+----------------------+-------------------+\n|          1|                     2|           Football|\n|          2|                     2|             Soccer|\n|          3|                     2|Baseball & Softball|\n|          4|                     2|         Basketball|\n|          5|                     2|           Lacrosse|\n+-----------+----------------------+-------------------+\nonly showing top 5 rows\n\n"
     ]
    }
   ],
   "source": [
    "customers_df.show(5) \n",
    "departments_df.show(5)\n",
    "categories_df.show(5)"
   ]
  },
  {
   "cell_type": "code",
   "execution_count": 0,
   "metadata": {
    "application/vnd.databricks.v1+cell": {
     "cellMetadata": {
      "byteLimit": 2048000,
      "rowLimit": 10000
     },
     "inputWidgets": {},
     "nuid": "1f7a52ed-ec3a-4b58-887c-9dc2209bf510",
     "showTitle": false,
     "title": ""
    }
   },
   "outputs": [
    {
     "output_type": "stream",
     "name": "stdout",
     "output_type": "stream",
     "text": [
      "+----------+-------------------+--------------------+-------------------+-------------+--------------------+\n|product_id|product_category_id|        product_name|product_description|product_price|       product_image|\n+----------+-------------------+--------------------+-------------------+-------------+--------------------+\n|         1|                  2|Quest Q64 10 FT. ...|               null|        59.98|http://images.acm...|\n|         2|                  2|Under Armour Men'...|               null|       129.99|http://images.acm...|\n|         3|                  2|Under Armour Men'...|               null|        89.99|http://images.acm...|\n|         4|                  2|Under Armour Men'...|               null|        89.99|http://images.acm...|\n|         5|                  2|Riddell Youth Rev...|               null|       199.99|http://images.acm...|\n+----------+-------------------+--------------------+-------------------+-------------+--------------------+\nonly showing top 5 rows\n\n+--------+--------------------+-----------------+---------------+\n|order_id|          order_date|order_customer_id|   order_status|\n+--------+--------------------+-----------------+---------------+\n|       1|2013-07-25 00:00:...|            11599|         CLOSED|\n|       2|2013-07-25 00:00:...|              256|PENDING_PAYMENT|\n|       3|2013-07-25 00:00:...|            12111|       COMPLETE|\n|       4|2013-07-25 00:00:...|             8827|         CLOSED|\n|       5|2013-07-25 00:00:...|            11318|       COMPLETE|\n+--------+--------------------+-----------------+---------------+\nonly showing top 5 rows\n\n+-------------+-------------------+---------------------+-------------------+-------------------+------------------------+\n|order_item_id|order_item_order_id|order_item_product_id|order_item_quantity|order_item_subtotal|order_item_product_price|\n+-------------+-------------------+---------------------+-------------------+-------------------+------------------------+\n|            1|                  1|                  957|                  1|             299.98|                  299.98|\n|            2|                  2|                 1073|                  1|             199.99|                  199.99|\n|            3|                  2|                  502|                  5|              250.0|                    50.0|\n|            4|                  2|                  403|                  1|             129.99|                  129.99|\n|            5|                  4|                  897|                  2|              49.98|                   24.99|\n+-------------+-------------------+---------------------+-------------------+-------------------+------------------------+\nonly showing top 5 rows\n\n"
     ]
    }
   ],
   "source": [
    "products_df.show(5)\n",
    "orders_df.show(5)\n",
    "order_items_df.show(5)"
   ]
  },
  {
   "cell_type": "code",
   "execution_count": 0,
   "metadata": {
    "application/vnd.databricks.v1+cell": {
     "cellMetadata": {
      "byteLimit": 2048000,
      "rowLimit": 10000
     },
     "inputWidgets": {},
     "nuid": "0eede127-1e86-4e03-a2d8-c129aff6d345",
     "showTitle": true,
     "title": "Create Temporary view"
    }
   },
   "outputs": [],
   "source": [
    "# customers_df.createOrReplaceTempView(\"customers\")\n",
    "# departments_df.createOrReplaceTempView(\"departments\")\n",
    "# categories_df.createOrReplaceTempView(\"categories\")\n",
    "# products_df.createOrReplaceTempView(\"products\")\n",
    "# orders_df.createOrReplaceTempView(\"orders\")\n",
    "# order_items_df.createOrReplaceTempView(\"order_items\")"
   ]
  },
  {
   "cell_type": "code",
   "execution_count": 0,
   "metadata": {
    "application/vnd.databricks.v1+cell": {
     "cellMetadata": {
      "byteLimit": 2048000,
      "rowLimit": 10000
     },
     "inputWidgets": {},
     "nuid": "3ad3a4ba-adb0-4d42-8fd0-fccdeb289229",
     "showTitle": true,
     "title": "Checking nulls "
    }
   },
   "outputs": [
    {
     "output_type": "stream",
     "name": "stdout",
     "output_type": "stream",
     "text": [
      "+-----------+--------------+--------------+--------------+-----------------+---------------+-------------+--------------+----------------+\n|customer_id|customer_fname|customer_lname|customer_email|customer_password|customer_street|customer_city|customer_state|customer_zipcode|\n+-----------+--------------+--------------+--------------+-----------------+---------------+-------------+--------------+----------------+\n|          0|             0|             0|             0|                0|              0|            0|             0|               0|\n+-----------+--------------+--------------+--------------+-----------------+---------------+-------------+--------------+----------------+\n\n"
     ]
    }
   ],
   "source": [
    "# Create a list of column names\n",
    "columns = customers_df.columns\n",
    "\n",
    "# # Use select() and agg() to count null values in each column\n",
    "customers_df.select([F.count(F.when(F.isnull(c), c)).alias(c) for c in columns]).show()\n"
   ]
  },
  {
   "cell_type": "markdown",
   "metadata": {
    "application/vnd.databricks.v1+cell": {
     "cellMetadata": {
      "byteLimit": 2048000,
      "rowLimit": 10000
     },
     "inputWidgets": {},
     "nuid": "8c0cdfa2-3096-4516-a068-bc478f1560e9",
     "showTitle": false,
     "title": ""
    }
   },
   "source": [
    "### Data Cleaning"
   ]
  },
  {
   "cell_type": "code",
   "execution_count": 0,
   "metadata": {
    "application/vnd.databricks.v1+cell": {
     "cellMetadata": {
      "byteLimit": 2048000,
      "rowLimit": 10000
     },
     "inputWidgets": {},
     "nuid": "a1907a17-4fc2-4387-9fea-ac4456bc84da",
     "showTitle": false,
     "title": ""
    }
   },
   "outputs": [
    {
     "output_type": "stream",
     "name": "stdout",
     "output_type": "stream",
     "text": [
      "+-----------+--------------+--------------+--------------+-----------------+--------------------+-------------+--------------+----------------+\n|customer_id|customer_fname|customer_lname|customer_email|customer_password|     customer_street|customer_city|customer_state|customer_zipcode|\n+-----------+--------------+--------------+--------------+-----------------+--------------------+-------------+--------------+----------------+\n|          1|       Richard|     Hernandez|     XXXXXXXXX|        XXXXXXXXX|  6303 Heather Plaza|  Brownsville|            TX|           78521|\n|          2|          Mary|       Barrett|     XXXXXXXXX|        XXXXXXXXX|9526 Noble Embers...|    Littleton|            CO|           80126|\n|          3|           Ann|         Smith|     XXXXXXXXX|        XXXXXXXXX|3422 Blue Pioneer...|       Caguas|            PR|           00725|\n|          4|          Mary|         Jones|     XXXXXXXXX|        XXXXXXXXX|  8324 Little Common|   San Marcos|            CA|           92069|\n|          5|        Robert|        Hudson|     XXXXXXXXX|        XXXXXXXXX|10 Crystal River ...|       Caguas|            PR|           00725|\n|          6|          Mary|         Smith|     XXXXXXXXX|        XXXXXXXXX|3151 Sleepy Quail...|      Passaic|            NJ|           07055|\n|          7|       Melissa|        Wilcox|     XXXXXXXXX|        XXXXXXXXX|9453 High Concession|       Caguas|            PR|           00725|\n|          8|         Megan|         Smith|     XXXXXXXXX|        XXXXXXXXX|3047 Foggy Forest...|     Lawrence|            MA|           01841|\n+-----------+--------------+--------------+--------------+-----------------+--------------------+-------------+--------------+----------------+\nonly showing top 8 rows\n\n"
     ]
    }
   ],
   "source": [
    "customers_df.show(8)"
   ]
  },
  {
   "cell_type": "code",
   "execution_count": 0,
   "metadata": {
    "application/vnd.databricks.v1+cell": {
     "cellMetadata": {
      "byteLimit": 2048000,
      "rowLimit": 10000
     },
     "inputWidgets": {},
     "nuid": "bd889321-9a55-46d8-91e8-9ba1a5a4b047",
     "showTitle": true,
     "title": "Customer_dataframe"
    }
   },
   "outputs": [
    {
     "output_type": "stream",
     "name": "stdout",
     "output_type": "stream",
     "text": [
      "+-----------+--------------+--------------+---------------------------+-------------+--------------+----------------+\n|customer_id|customer_fname|customer_lname|customer_street            |customer_city|customer_state|customer_zipcode|\n+-----------+--------------+--------------+---------------------------+-------------+--------------+----------------+\n|1          |Richard       |Hernandez     |6303 Heather Plaza         |Brownsville  |TX            |78521           |\n|2          |Mary          |Barrett       |9526 Noble Embers Ridge    |Littleton    |CO            |80126           |\n|3          |Ann           |Smith         |3422 Blue Pioneer Bend     |Caguas       |PR            |00725           |\n|4          |Mary          |Jones         |8324 Little Common         |San Marcos   |CA            |92069           |\n|5          |Robert        |Hudson        |10 Crystal River Mall      |Caguas       |PR            |00725           |\n|6          |Mary          |Smith         |3151 Sleepy Quail Promenade|Passaic      |NJ            |07055           |\n|7          |Melissa       |Wilcox        |9453 High Concession       |Caguas       |PR            |00725           |\n|8          |Megan         |Smith         |3047 Foggy Forest Plaza    |Lawrence     |MA            |01841           |\n|9          |Mary          |Perez         |3616 Quaking Street        |Caguas       |PR            |00725           |\n|10         |Melissa       |Smith         |8598 Harvest Beacon Plaza  |Stafford     |VA            |22554           |\n+-----------+--------------+--------------+---------------------------+-------------+--------------+----------------+\nonly showing top 10 rows\n\n"
     ]
    }
   ],
   "source": [
    "#dropping unwanted columns\n",
    "customers_df = customers_df.drop(\"customer_email\", \"customer_password\")\n",
    "\n",
    "# Show the DataFrame after removing the columns\n",
    "customers_df.show(10 , truncate = False )"
   ]
  },
  {
   "cell_type": "code",
   "execution_count": 0,
   "metadata": {
    "application/vnd.databricks.v1+cell": {
     "cellMetadata": {
      "byteLimit": 2048000,
      "rowLimit": 10000
     },
     "inputWidgets": {},
     "nuid": "b0976dcc-53df-4bfa-bc29-ee78e633d2be",
     "showTitle": true,
     "title": "Orders Dataframe"
    }
   },
   "outputs": [
    {
     "output_type": "stream",
     "name": "stdout",
     "output_type": "stream",
     "text": [
      "+--------+---------------------+-----------------+---------------+\n|order_id|order_date           |order_customer_id|order_status   |\n+--------+---------------------+-----------------+---------------+\n|1       |2013-07-25 00:00:00.0|11599            |CLOSED         |\n|2       |2013-07-25 00:00:00.0|256              |PENDING_PAYMENT|\n|3       |2013-07-25 00:00:00.0|12111            |COMPLETE       |\n|4       |2013-07-25 00:00:00.0|8827             |CLOSED         |\n|5       |2013-07-25 00:00:00.0|11318            |COMPLETE       |\n|6       |2013-07-25 00:00:00.0|7130             |COMPLETE       |\n|7       |2013-07-25 00:00:00.0|4530             |COMPLETE       |\n|8       |2013-07-25 00:00:00.0|2911             |PROCESSING     |\n|9       |2013-07-25 00:00:00.0|5657             |PENDING_PAYMENT|\n|10      |2013-07-25 00:00:00.0|5648             |PENDING_PAYMENT|\n+--------+---------------------+-----------------+---------------+\nonly showing top 10 rows\n\n"
     ]
    }
   ],
   "source": [
    "orders_df.show(10,truncate=False)"
   ]
  },
  {
   "cell_type": "code",
   "execution_count": 0,
   "metadata": {
    "application/vnd.databricks.v1+cell": {
     "cellMetadata": {
      "byteLimit": 2048000,
      "rowLimit": 10000
     },
     "inputWidgets": {},
     "nuid": "2a14e4af-e999-44d0-8577-fa0f5465f9be",
     "showTitle": false,
     "title": ""
    }
   },
   "outputs": [
    {
     "output_type": "stream",
     "name": "stdout",
     "output_type": "stream",
     "text": [
      "+--------+----------+-----------------+---------------+\n|order_id|order_date|order_customer_id|   order_status|\n+--------+----------+-----------------+---------------+\n|       1|2013-07-25|            11599|         CLOSED|\n|       2|2013-07-25|              256|PENDING_PAYMENT|\n|       3|2013-07-25|            12111|       COMPLETE|\n|       4|2013-07-25|             8827|         CLOSED|\n|       5|2013-07-25|            11318|       COMPLETE|\n|       6|2013-07-25|             7130|       COMPLETE|\n|       7|2013-07-25|             4530|       COMPLETE|\n|       8|2013-07-25|             2911|     PROCESSING|\n|       9|2013-07-25|             5657|PENDING_PAYMENT|\n|      10|2013-07-25|             5648|PENDING_PAYMENT|\n+--------+----------+-----------------+---------------+\nonly showing top 10 rows\n\n"
     ]
    }
   ],
   "source": [
    "orders_df = orders_df.withColumn(\"order_date\", date_format(col(\"order_date\"), \"yyyy-MM-dd\"))\n",
    "orders_df.show(10)\n"
   ]
  },
  {
   "cell_type": "code",
   "execution_count": 0,
   "metadata": {
    "application/vnd.databricks.v1+cell": {
     "cellMetadata": {
      "byteLimit": 2048000,
      "rowLimit": 10000
     },
     "inputWidgets": {},
     "nuid": "f1d6927d-7ed7-494c-8c9c-c4abbcbb8cec",
     "showTitle": true,
     "title": "Products dataframe"
    }
   },
   "outputs": [
    {
     "output_type": "stream",
     "name": "stdout",
     "output_type": "stream",
     "text": [
      "+----------+-------------------+---------------------------------------------+-------------------+-------------+-------------------------------------------------------------------------------------+\n|product_id|product_category_id|product_name                                 |product_description|product_price|product_image                                                                        |\n+----------+-------------------+---------------------------------------------+-------------------+-------------+-------------------------------------------------------------------------------------+\n|1         |2                  |Quest Q64 10 FT. x 10 FT. Slant Leg Instant U|null               |59.98        |http://images.acmesports.sports/Quest+Q64+10+FT.+x+10+FT.+Slant+Leg+Instant+Up+Canopy|\n|2         |2                  |Under Armour Men's Highlight MC Football Clea|null               |129.99       |http://images.acmesports.sports/Under+Armour+Men%27s+Highlight+MC+Football+Cleat     |\n|3         |2                  |Under Armour Men's Renegade D Mid Football Cl|null               |89.99        |http://images.acmesports.sports/Under+Armour+Men%27s+Renegade+D+Mid+Football+Cleat   |\n|4         |2                  |Under Armour Men's Renegade D Mid Football Cl|null               |89.99        |http://images.acmesports.sports/Under+Armour+Men%27s+Renegade+D+Mid+Football+Cleat   |\n|5         |2                  |Riddell Youth Revolution Speed Custom Footbal|null               |199.99       |http://images.acmesports.sports/Riddell+Youth+Revolution+Speed+Custom+Football+Helmet|\n+----------+-------------------+---------------------------------------------+-------------------+-------------+-------------------------------------------------------------------------------------+\nonly showing top 5 rows\n\n+----------+-------------------+--------------------+-------------+--------------------+\n|product_id|product_category_id|        product_name|product_price|       product_image|\n+----------+-------------------+--------------------+-------------+--------------------+\n|         1|                  2|Quest Q64 10 FT. ...|        59.98|http://images.acm...|\n|         2|                  2|Under Armour Men'...|       129.99|http://images.acm...|\n|         3|                  2|Under Armour Men'...|        89.99|http://images.acm...|\n+----------+-------------------+--------------------+-------------+--------------------+\nonly showing top 3 rows\n\n"
     ]
    }
   ],
   "source": [
    "products_df.show(5,truncate=False)\n",
    "\n",
    "# Droping the product description column\n",
    "products_df = products_df.drop(\"product_description\")\n",
    "products_df.show(3)"
   ]
  },
  {
   "cell_type": "markdown",
   "metadata": {
    "application/vnd.databricks.v1+cell": {
     "cellMetadata": {
      "byteLimit": 2048000,
      "rowLimit": 10000
     },
     "inputWidgets": {},
     "nuid": "d0acbbd7-4ca6-4553-a591-6a452af722fd",
     "showTitle": false,
     "title": ""
    }
   },
   "source": [
    "## Data Analysis "
   ]
  },
  {
   "cell_type": "code",
   "execution_count": 0,
   "metadata": {
    "application/vnd.databricks.v1+cell": {
     "cellMetadata": {
      "byteLimit": 2048000,
      "rowLimit": 10000
     },
     "inputWidgets": {},
     "nuid": "00d4b36c-05aa-4c0e-a322-627947cb1319",
     "showTitle": true,
     "title": "Total number of orders placed"
    }
   },
   "outputs": [
    {
     "output_type": "stream",
     "name": "stdout",
     "output_type": "stream",
     "text": [
      "Out[21]: 68883"
     ]
    }
   ],
   "source": [
    "orders_df.count()"
   ]
  },
  {
   "cell_type": "code",
   "execution_count": 0,
   "metadata": {
    "application/vnd.databricks.v1+cell": {
     "cellMetadata": {
      "byteLimit": 2048000,
      "rowLimit": 10000
     },
     "inputWidgets": {},
     "nuid": "7a4caa22-a9d9-40ab-9608-d9b8d1d1ea81",
     "showTitle": true,
     "title": "Total Revenue for each Year"
    }
   },
   "outputs": [
    {
     "output_type": "display_data",
     "data": {
      "text/html": [
       "<style scoped>\n",
       "  .table-result-container {\n",
       "    max-height: 300px;\n",
       "    overflow: auto;\n",
       "  }\n",
       "  table, th, td {\n",
       "    border: 1px solid black;\n",
       "    border-collapse: collapse;\n",
       "  }\n",
       "  th, td {\n",
       "    padding: 5px;\n",
       "  }\n",
       "  th {\n",
       "    text-align: left;\n",
       "  }\n",
       "</style><div class='table-result-container'><table class='table-result'><thead style='background-color: white'><tr><th>order_year</th><th>tot_sales</th></tr></thead><tbody><tr><td>2013</td><td>1.4940106250074387E7</td></tr><tr><td>2014</td><td>1.8686483344932556E7</td></tr></tbody></table></div>"
      ]
     },
     "metadata": {
      "application/vnd.databricks.v1+output": {
       "addedWidgets": {},
       "aggData": [],
       "aggError": "",
       "aggOverflow": false,
       "aggSchema": [],
       "aggSeriesLimitReached": false,
       "aggType": "",
       "arguments": {},
       "columnCustomDisplayInfos": {},
       "data": [
        [
         2013,
         1.4940106250074387E7
        ],
        [
         2014,
         1.8686483344932556E7
        ]
       ],
       "datasetInfos": [],
       "dbfsResultPath": null,
       "isJsonSchema": true,
       "metadata": {},
       "overflow": false,
       "plotOptions": {
        "customPlotOptions": {},
        "displayType": "table",
        "pivotAggregation": null,
        "pivotColumns": null,
        "xColumns": null,
        "yColumns": null
       },
       "removedWidgets": [],
       "schema": [
        {
         "metadata": "{}",
         "name": "order_year",
         "type": "\"integer\""
        },
        {
         "metadata": "{}",
         "name": "tot_sales",
         "type": "\"double\""
        }
       ],
       "type": "table"
      }
     },
     "output_type": "display_data"
    }
   ],
   "source": [
    "total_revenue_per_year = (orders_df.filter(col('order_status')!=\"CANCELED\").join(order_items_df, orders_df.order_id == order_items_df.order_item_order_id)\n",
    "    .select([F.year('order_date').alias('order_year'), 'order_item_subtotal'])\n",
    "    .groupBy(['order_year'])\n",
    "    .agg(F.sum('order_item_subtotal').alias('tot_sales'))\n",
    "    .orderBy(['order_year']))\n",
    "display(total_revenue_per_year)"
   ]
  },
  {
   "cell_type": "code",
   "execution_count": 0,
   "metadata": {
    "application/vnd.databricks.v1+cell": {
     "cellMetadata": {
      "byteLimit": 2048000,
      "rowLimit": 10000
     },
     "inputWidgets": {},
     "nuid": "563938f3-ff94-4a34-b3fa-8695bee59a7f",
     "showTitle": true,
     "title": "Total Revenue Per Month Per Year"
    }
   },
   "outputs": [
    {
     "output_type": "display_data",
     "data": {
      "text/html": [
       "<style scoped>\n",
       "  .table-result-container {\n",
       "    max-height: 300px;\n",
       "    overflow: auto;\n",
       "  }\n",
       "  table, th, td {\n",
       "    border: 1px solid black;\n",
       "    border-collapse: collapse;\n",
       "  }\n",
       "  th, td {\n",
       "    padding: 5px;\n",
       "  }\n",
       "  th {\n",
       "    text-align: left;\n",
       "  }\n",
       "</style><div class='table-result-container'><table class='table-result'><thead style='background-color: white'><tr><th>order_year</th><th>order_month</th><th>tot_revenue</th></tr></thead><tbody><tr><td>2013</td><td>7</td><td>754899.794549942</td></tr><tr><td>2013</td><td>8</td><td>2769236.083465576</td></tr><tr><td>2013</td><td>9</td><td>2866553.3851947784</td></tr><tr><td>2013</td><td>10</td><td>2573575.719619751</td></tr><tr><td>2013</td><td>11</td><td>3105843.3310375214</td></tr><tr><td>2013</td><td>12</td><td>2869997.9362068176</td></tr><tr><td>2014</td><td>1</td><td>2870834.236070633</td></tr><tr><td>2014</td><td>2</td><td>2712838.6335430145</td></tr><tr><td>2014</td><td>3</td><td>2805006.3749523163</td></tr><tr><td>2014</td><td>4</td><td>2758912.5239429474</td></tr><tr><td>2014</td><td>5</td><td>2695699.532524109</td></tr><tr><td>2014</td><td>6</td><td>2657013.0903892517</td></tr><tr><td>2014</td><td>7</td><td>2186178.9535102844</td></tr></tbody></table></div>"
      ]
     },
     "metadata": {
      "application/vnd.databricks.v1+output": {
       "addedWidgets": {},
       "aggData": [],
       "aggError": "",
       "aggOverflow": false,
       "aggSchema": [],
       "aggSeriesLimitReached": false,
       "aggType": "",
       "arguments": {},
       "columnCustomDisplayInfos": {},
       "data": [
        [
         2013,
         7,
         754899.794549942
        ],
        [
         2013,
         8,
         2769236.083465576
        ],
        [
         2013,
         9,
         2866553.3851947784
        ],
        [
         2013,
         10,
         2573575.719619751
        ],
        [
         2013,
         11,
         3105843.3310375214
        ],
        [
         2013,
         12,
         2869997.9362068176
        ],
        [
         2014,
         1,
         2870834.236070633
        ],
        [
         2014,
         2,
         2712838.6335430145
        ],
        [
         2014,
         3,
         2805006.3749523163
        ],
        [
         2014,
         4,
         2758912.5239429474
        ],
        [
         2014,
         5,
         2695699.532524109
        ],
        [
         2014,
         6,
         2657013.0903892517
        ],
        [
         2014,
         7,
         2186178.9535102844
        ]
       ],
       "datasetInfos": [],
       "dbfsResultPath": null,
       "isJsonSchema": true,
       "metadata": {},
       "overflow": false,
       "plotOptions": {
        "customPlotOptions": {},
        "displayType": "table",
        "pivotAggregation": null,
        "pivotColumns": null,
        "xColumns": null,
        "yColumns": null
       },
       "removedWidgets": [],
       "schema": [
        {
         "metadata": "{}",
         "name": "order_year",
         "type": "\"integer\""
        },
        {
         "metadata": "{}",
         "name": "order_month",
         "type": "\"integer\""
        },
        {
         "metadata": "{}",
         "name": "tot_revenue",
         "type": "\"double\""
        }
       ],
       "type": "table"
      }
     },
     "output_type": "display_data"
    }
   ],
   "source": [
    "tot_rev_per_month_per_year = (orders_df.filter(col('order_status')!=\"CANCELED\").join(order_items_df, orders_df.order_id == order_items_df.order_item_order_id)\n",
    "     .select([F.year('order_date').alias('order_year'), F.month('order_date').alias('order_month'), 'order_item_subtotal'])\n",
    "     .groupBy(['order_year', 'order_month'])\n",
    "     .agg(F.sum('order_item_subtotal').alias('tot_revenue'))\n",
    "     .orderBy(['order_year', 'order_month']))\n",
    "\n",
    "display(tot_rev_per_month_per_year)"
   ]
  },
  {
   "cell_type": "code",
   "execution_count": 0,
   "metadata": {
    "application/vnd.databricks.v1+cell": {
     "cellMetadata": {
      "byteLimit": 2048000,
      "rowLimit": 10000
     },
     "inputWidgets": {},
     "nuid": "deea890a-07e6-4129-9f8f-95bba018ea56",
     "showTitle": false,
     "title": ""
    }
   },
   "outputs": [],
   "source": [
    "pdf = tot_rev_per_month_per_year.toPandas()"
   ]
  },
  {
   "cell_type": "code",
   "execution_count": 0,
   "metadata": {
    "application/vnd.databricks.v1+cell": {
     "cellMetadata": {
      "byteLimit": 2048000,
      "rowLimit": 10000
     },
     "inputWidgets": {},
     "nuid": "cd13e910-b17e-4a2a-962b-81549aa2a047",
     "showTitle": true,
     "title": "Total revenue plot per month per year "
    }
   },
   "outputs": [
    {
     "output_type": "display_data",
     "data": {
      "image/png": "[encoded data removed]"
     },
     "metadata": {
      "application/vnd.databricks.v1+output": {
       "addedWidgets": {},
       "arguments": {},
       "data": "data:image/png;base64,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\n",
       "datasetInfos": [],
       "metadata": {},
       "removedWidgets": [],
       "type": "image"
      }
     },
     "output_type": "display_data"
    }
   ],
   "source": [
    "g = sns.barplot(x='order_month', y='tot_revenue', hue='order_year', data=pdf)\n",
    "g.set_title('Total Revenue Per Month Per Year');"
   ]
  },
  {
   "cell_type": "code",
   "execution_count": 0,
   "metadata": {
    "application/vnd.databricks.v1+cell": {
     "cellMetadata": {
      "byteLimit": 2048000,
      "rowLimit": 10000
     },
     "inputWidgets": {},
     "nuid": "f79e6a32-db7d-4336-a0f6-1b9bf9ebc3c9",
     "showTitle": true,
     "title": "Total Amount purchase by each customer"
    }
   },
   "outputs": [
    {
     "output_type": "stream",
     "name": "stdout",
     "output_type": "stream",
     "text": [
      "+-----------+----------+---------------------+-------------------+\n|customer_id|order_date|order_item_product_id|order_item_subtotal|\n+-----------+----------+---------------------+-------------------+\n|          1|2013-12-13|                  191|             499.95|\n|          2|2013-10-29|                 1014|              99.96|\n|          2|2014-02-18|                  502|               50.0|\n|          2|2014-02-18|                 1073|             199.99|\n|          2|2014-02-18|                  957|             299.98|\n|          2|2013-08-02|                 1014|              99.96|\n|          2|2013-08-02|                 1014|             149.94|\n|          2|2013-08-02|                  627|             199.95|\n|          2|2013-08-02|                 1073|             199.99|\n|          2|2013-08-02|                  365|             119.98|\n+-----------+----------+---------------------+-------------------+\nonly showing top 10 rows\n\n"
     ]
    }
   ],
   "source": [
    "customer_purchase_history_df = customers_df.join(orders_df, customers_df.customer_id == orders_df.order_customer_id, \"inner\") \\\n",
    "    .join(order_items_df, orders_df.order_id == order_items_df.order_item_order_id, \"inner\") \\\n",
    "    .select(\"customer_id\", \"order_date\", \"order_item_product_id\", \"order_item_subtotal\")\n",
    "customer_purchase_history_df.orderBy(col('customer_id')).show(10)"
   ]
  },
  {
   "cell_type": "code",
   "execution_count": 0,
   "metadata": {
    "application/vnd.databricks.v1+cell": {
     "cellMetadata": {
      "byteLimit": 2048000,
      "rowLimit": 10000
     },
     "inputWidgets": {},
     "nuid": "55ba570f-1dde-4bda-a121-a4986d435327",
     "showTitle": false,
     "title": ""
    }
   },
   "outputs": [
    {
     "output_type": "stream",
     "name": "stdout",
     "output_type": "stream",
     "text": [
      "+-----------+---------------------+\n|customer_id|total_purchase_amount|\n+-----------+---------------------+\n|        791|             10524.17|\n|       9371|              9299.03|\n|       8766|              9296.14|\n|       1657|              9223.71|\n|       2641|              9130.92|\n|       1288|              9019.11|\n|       3710|               9019.1|\n|       4249|              8918.85|\n|       5654|              8904.95|\n|       5624|              8761.98|\n+-----------+---------------------+\nonly showing top 10 rows\n\n"
     ]
    }
   ],
   "source": [
    "customer_purchase_history_df = customer_purchase_history_df.withColumn(\"total_purchase_amount\", col(\"order_item_subtotal\")) \\\n",
    "    .groupBy(\"customer_id\").agg({\"total_purchase_amount\": \"sum\"}) \\\n",
    "    .withColumnRenamed(\"sum(total_purchase_amount)\", \"total_purchase_amount\")\n",
    "customer_purchase_history_df = customer_purchase_history_df.withColumn(\"total_purchase_amount\", F.round(\"total_purchase_amount\", 2))\n",
    "customer_purchase_history_df = customer_purchase_history_df.orderBy(F.desc(\"total_purchase_amount\"))\n",
    "customer_purchase_history_df.show(10)"
   ]
  },
  {
   "cell_type": "code",
   "execution_count": 0,
   "metadata": {
    "application/vnd.databricks.v1+cell": {
     "cellMetadata": {
      "byteLimit": 2048000,
      "rowLimit": 10000
     },
     "inputWidgets": {},
     "nuid": "271b3be6-cc23-431f-a7fe-c0d7d49d8821",
     "showTitle": true,
     "title": "Plot Total Amount purchase by each customer"
    }
   },
   "outputs": [],
   "source": [
    "# Convert PySpark DataFrame to pandas DataFrame\n",
    "pdf = customer_purchase_history_df.toPandas()\n",
    "plt.figure(figsize=(10,6))\n",
    "g = sns.barplot(x='customer_id', y='total_purchase_amount', hue = 'customer_id', data=pdf)\n",
    "g.set_title('Total Amount purchase by each customer ');\n",
    "\n",
    "# Show the plot\n",
    "plt.show()\n"
   ]
  },
  {
   "cell_type": "code",
   "execution_count": 0,
   "metadata": {
    "application/vnd.databricks.v1+cell": {
     "cellMetadata": {
      "byteLimit": 2048000,
      "rowLimit": 10000
     },
     "inputWidgets": {},
     "nuid": "451053cd-9d6a-43e2-90e3-8f908520feb0",
     "showTitle": true,
     "title": "Customer types"
    }
   },
   "outputs": [],
   "source": [
    "high_value_customers = customer_purchase_history_df.filter(col(\"total_purchase_amount\") > 4000).orderBy(col(\"total_purchase_amount\").desc())\n",
    "medium_value_customers = customer_purchase_history_df.filter((col(\"total_purchase_amount\") <= 4000) & (col(\"total_purchase_amount\") > 2000)).orderBy(col('total_purchase_amount').desc())\n",
    "low_value_customers = customer_purchase_history_df.filter(col(\"total_purchase_amount\") <= 2000).orderBy(col('total_purchase_amount').desc())\n",
    "\n",
    "# Print the segments\n",
    "# print(\"High-Value Customers:\")\n",
    "high_value_customers.show(10)\n",
    "# print(\"Medium-Value Customers:\")\n",
    "medium_value_customers.show(10)\n",
    "# print(\"Low-Value Customers:\")\n",
    "low_value_customers.show(10)\n"
   ]
  },
  {
   "cell_type": "code",
   "execution_count": 0,
   "metadata": {
    "application/vnd.databricks.v1+cell": {
     "cellMetadata": {
      "byteLimit": 2048000,
      "rowLimit": 10000
     },
     "inputWidgets": {},
     "nuid": "82abc821-b339-4820-a45b-2c145da01919",
     "showTitle": true,
     "title": "Monthly sales product trends"
    }
   },
   "outputs": [],
   "source": [
    "product_sales_df = products_df.join(order_items_df, products_df.product_id == order_items_df.order_item_product_id, \"inner\") \\\n",
    "    .join(orders_df, order_items_df.order_item_order_id == orders_df.order_id, \"inner\") \\\n",
    "    .select(\"product_id\", \"order_date\", \"order_item_quantity\", \"product_name\")\n",
    "\n",
    "# Extract year and month from order date\n",
    "product_sales_df = product_sales_df.withColumn(\"order_year\", F.year(\"order_date\")) \\\n",
    "    .withColumn(\"order_month\", F.month(\"order_date\"))\n",
    "\n",
    "# Calculate total sales per product per month\n",
    "monthly_sales_df = product_sales_df.groupBy(\"product_id\", \"order_year\", \"order_month\") \\\n",
    "    .agg(F.sum(\"order_item_quantity\").alias(\"total_quantity_sold\"))\n",
    "\n",
    "# Identify seasonal patterns (e.g., high sales during holidays)\n",
    "# You can customize this based on your business context\n",
    "seasonal_patterns_df = monthly_sales_df.groupBy(\"product_id\", \"order_month\") \\\n",
    "    .agg(F.sum(\"total_quantity_sold\").alias(\"total_monthly_sales\"))\n",
    "\n",
    "# Print the seasonal patterns\n",
    "seasonal_patterns_df.show(10)"
   ]
  },
  {
   "cell_type": "code",
   "execution_count": 0,
   "metadata": {
    "application/vnd.databricks.v1+cell": {
     "cellMetadata": {
      "byteLimit": 2048000,
      "rowLimit": 10000
     },
     "inputWidgets": {},
     "nuid": "573f4dd7-bac9-46fd-8e20-77335bda0727",
     "showTitle": false,
     "title": ""
    }
   },
   "outputs": [],
   "source": [
    "pandas_df = monthly_sales_df.toPandas()\n",
    "\n",
    "# Line chart for monthly sales trends\n",
    "plt.figure(figsize=(10, 6))\n",
    "sns.lineplot(x=\"order_month\", y=\"total_quantity_sold\", hue=\"product_id\", data=pandas_df)\n",
    "plt.title(\"Monthly Sales Trends\")\n",
    "plt.xlabel(\"Month\")\n",
    "plt.ylabel(\"Total Quantity Sold\")\n",
    "plt.show()\n"
   ]
  },
  {
   "cell_type": "code",
   "execution_count": 0,
   "metadata": {
    "application/vnd.databricks.v1+cell": {
     "cellMetadata": {
      "byteLimit": 2048000,
      "rowLimit": 10000
     },
     "inputWidgets": {},
     "nuid": "a37fb184-6382-48bc-9127-6b16e0bd9dec",
     "showTitle": true,
     "title": "Top Performing Departments"
    }
   },
   "outputs": [],
   "source": [
    "df = (orders_df\n",
    "      .filter((orders_df.order_status != 'CANCELED') & (orders_df.order_status != 'SUSPECTED_FRAUD'))\n",
    "      .join(order_items_df, orders_df.order_id == order_items_df.order_item_order_id, how='inner')\n",
    "      .join(products_df, order_items_df.order_item_product_id == products_df.product_id, how='inner')\n",
    "      .join(categories_df, products_df.product_category_id == categories_df.category_id, how='inner')\n",
    "      .join(departments_df, categories_df.category_department_id == departments_df.department_id, how='inner')\n",
    "      .select('department_name', F.year(orders_df.order_date).alias('order_year'), 'order_item_subtotal')\n",
    "      .groupBy([departments_df.department_name, 'order_year'])\n",
    "      .agg(F.sum(order_items_df.order_item_subtotal).alias('tot_revenue'))\n",
    "      .orderBy('department_name', 'order_year'))\n",
    "df.cache()\n",
    "\n",
    "df.show(5)"
   ]
  },
  {
   "cell_type": "code",
   "execution_count": 0,
   "metadata": {
    "application/vnd.databricks.v1+cell": {
     "cellMetadata": {
      "byteLimit": 2048000,
      "rowLimit": 10000
     },
     "inputWidgets": {},
     "nuid": "7e9fc114-997b-475c-a7d9-c849189f040e",
     "showTitle": true,
     "title": "Highest Priced Product"
    }
   },
   "outputs": [],
   "source": [
    "(\\products_df\n",
    " .select('*')\n",
    " .filter(col('product_price') == products_df.select(F.max('product_price')).collect()[0][0])\n",
    " .show())"
   ]
  },
  {
   "cell_type": "code",
   "execution_count": 0,
   "metadata": {
    "application/vnd.databricks.v1+cell": {
     "cellMetadata": {
      "byteLimit": 2048000,
      "rowLimit": 10000
     },
     "inputWidgets": {},
     "nuid": "846990a3-d3e7-417d-90b9-e80955a1e535",
     "showTitle": false,
     "title": ""
    }
   },
   "outputs": [],
   "source": [
    "popular_category_df = order_items_df.join(products_df, col(\"order_item_product_id\") ==  col(\"product_id\"), how='inner')\\\n",
    "                 .join(categories_df, col(\"category_id\") == col(\"product_category_id\"), how='inner')\\ \n",
    "                 .groupBy('category_name') \\\n",
    "                 .agg(F.sum('order_item_quantity').alias('order_count')) \\\n",
    "                 .orderBy('order_count', ascending=False) \\\n",
    "                 .limit(10)\n",
    "popular_category_df.show()"
   ]
  },
  {
   "cell_type": "code",
   "execution_count": 0,
   "metadata": {
    "application/vnd.databricks.v1+cell": {
     "cellMetadata": {
      "byteLimit": 2048000,
      "rowLimit": 10000
     },
     "inputWidgets": {},
     "nuid": "3d462af2-a4bc-431c-8ba0-6d20fce8fbc0",
     "showTitle": false,
     "title": ""
    }
   },
   "outputs": [],
   "source": [
    "# convert it in pandas dataframe\n",
    "pop_cat = popular_category_df.toPandas()\n",
    "# create the pie-chart\n",
    "pop_cat.plot(kind='pie', y = 'order_count', autopct='%1.1f%%', startangle=90, labels=pdf['category_name'], legend=False, title='Most popular Categories', figsize=(9, 9));"
   ]
  },
  {
   "cell_type": "code",
   "execution_count": 0,
   "metadata": {
    "application/vnd.databricks.v1+cell": {
     "cellMetadata": {
      "byteLimit": 2048000,
      "rowLimit": 10000
     },
     "inputWidgets": {},
     "nuid": "17c7c123-e76d-4393-8055-177cb882c04b",
     "showTitle": false,
     "title": ""
    }
   },
   "outputs": [],
   "source": [
    "customers_df.show(10)"
   ]
  }
 ],
 "metadata": {
  "application/vnd.databricks.v1+notebook": {
   "dashboards": [],
   "language": "python",
   "notebookMetadata": {
    "pythonIndentUnit": 4
   },
   "notebookName": "Project_final",
   "widgets": {}
  }
 },
 "nbformat": 4,
 "nbformat_minor": 0
}
